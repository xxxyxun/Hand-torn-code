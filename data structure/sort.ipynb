{
 "cells": [
  {
   "cell_type": "markdown",
   "metadata": {},
   "source": [
    "# 排序算法\n",
    "## 冒泡排序(Bubble Sort)\n",
    "* 比较相邻的元素。如果第一个比第二个大，就交换它们两个；\n",
    "* 对每一对相邻元素作同样的工作，从开始第一对到结尾的最后一对，这样在最后的元素应该会是最大的数；\n",
    "* 针对所有的元素重复以上的步骤，除了最后一个；\n",
    "* 重复步骤1~3，直到排序完成。\n",
    "\n",
    "时间复杂度O(n^2)，空间复杂度O(1)\n",
    "\n",
    "\n",
    "* 每两个交换，让小的在前面，后面先排好。"
   ]
  },
  {
   "cell_type": "code",
   "execution_count": 2,
   "metadata": {},
   "outputs": [],
   "source": [
    "def BubbleSort(lis):\n",
    "    if len(lis) <= 1:\n",
    "        return lis\n",
    "    for i in range(0, len(lis)):\n",
    "        for j in range(len(lis)-i-1):\n",
    "            if lis[j+1] < lis[j]:\n",
    "                lis[j+1] ,lis[j] = lis[j], lis[j+1]\n",
    "    return lis "
   ]
  },
  {
   "cell_type": "code",
   "execution_count": 3,
   "metadata": {},
   "outputs": [
    {
     "name": "stdout",
     "output_type": "stream",
     "text": [
      "Sorted list: [1, 5, 6, 9, 21, 24, 34, 38, 47, 51]\n"
     ]
    }
   ],
   "source": [
    "a = [5, 24, 38, 9, 47, 1, 21, 51, 34, 6]\n",
    "sorted_list = BubbleSort(a)\n",
    "print(\"Sorted list:\", sorted_list)"
   ]
  },
  {
   "cell_type": "markdown",
   "metadata": {},
   "source": [
    "## 快速排序(Quick Sort)\n",
    "* 从数列中挑出一个元素，称为 “基准”（pivot）；\n",
    "* 重新排序数列，所有元素比基准值小的摆放在基准前面，所有元素比基准值大的摆在基准的后面（相同的数可以到任一边）。在这个分区退出之后，该基准就处于数列的中间位置。这个称为分区（partition）操作；\n",
    "* 递归地（recursive）把小于基准值元素的子数列和大于基准值元素的子数列排序。\n",
    "\n",
    "时间复杂度O(nlogn)，空间复杂度O(logn)。\n",
    "\n",
    "* 把第一个数设为基准，双指针遍历后面的数，遇到比基准小的和后面的指针交换，统一把小于基准的放基准后面（列表前端），比基准大的放数组后面，然后把基准与右指针交换，对基准前后分别递归继续这样做。"
   ]
  },
  {
   "cell_type": "code",
   "execution_count": 4,
   "metadata": {},
   "outputs": [],
   "source": [
    "def QuickSort(lst):\n",
    "    def sort(lst, left, right):\n",
    "        if left < right:\n",
    "            key = merge(lst, left, right)\n",
    "            sort(lst, left, key-1)\n",
    "            sort(lst, key+1, right)\n",
    "        return lst\n",
    "    def merge(lst, left, right):\n",
    "        key = lst[left]\n",
    "        leftmark = left + 1\n",
    "        rightmark = right\n",
    "        Done = False\n",
    "        while not Done:\n",
    "            while leftmark <= rightmark and lst[leftmark] <= key:\n",
    "                leftmark += 1\n",
    "            while leftmark <= rightmark and lst[rightmark] >= key:\n",
    "                rightmark -= 1\n",
    "            if rightmark <= leftmark:\n",
    "                Done = True\n",
    "            else:\n",
    "                lst[leftmark], lst[rightmark] = lst[rightmark], lst[leftmark]\n",
    "        lst[left], lst[rightmark] = lst[rightmark], lst[left]\n",
    "        return rightmark\n",
    "    if len(lst) <= 1:\n",
    "        return lst\n",
    "    else:\n",
    "        return sort(lst, 0, len(lst)-1)"
   ]
  },
  {
   "cell_type": "code",
   "execution_count": 5,
   "metadata": {},
   "outputs": [
    {
     "name": "stdout",
     "output_type": "stream",
     "text": [
      "Sorted list: [1, 5, 6, 9, 21, 24, 34, 38, 47, 51]\n"
     ]
    }
   ],
   "source": [
    "a = [5, 24, 38, 9, 47, 1, 21, 51, 34, 6]\n",
    "sorted_list = QuickSort(a)\n",
    "print(\"Sorted list:\", sorted_list)"
   ]
  },
  {
   "cell_type": "markdown",
   "metadata": {},
   "source": [
    "# 简单插入排序(Insert Sort)\n",
    "1. 从第一个元素开始，该元素可以认为已经被排序；\n",
    "2. 取出下一个元素，在已经排序的元素序列中从后向前扫描；\n",
    "3. 如果该元素（已排序）大于新元素，将该元素移到下一位置；\n",
    "4. 重复步骤3，直到找到已排序的元素小于或者等于新元素的位置；\n",
    "5. 将新元素插入到该位置后；\n",
    "6. 重复步骤2~5。\n",
    "\n",
    "时间复杂度O(n^2)，空间复杂度O(1)\n",
    "* 从头遍历到结尾，被选择的那个元素逐个与前面的元素比较，放到刚好比前一个大比后一个小（排序好）的位置。"
   ]
  },
  {
   "cell_type": "code",
   "execution_count": 15,
   "metadata": {},
   "outputs": [],
   "source": [
    "\n",
    "def InsertSort(lst):\n",
    "    if len(lst) <= 1:\n",
    "        return lst\n",
    "    for i in range(1, len(lst)):\n",
    "        j = i\n",
    "        temp = lst[i]\n",
    "        while j > 0 and temp < lst[j-1]:\n",
    "            lst[j] = lst[j-1]\n",
    "            j -= 1\n",
    "        lst[j] = temp\n",
    "    return lst"
   ]
  },
  {
   "cell_type": "code",
   "execution_count": 16,
   "metadata": {},
   "outputs": [
    {
     "name": "stdout",
     "output_type": "stream",
     "text": [
      "Sorted list: [1, 5, 6, 9, 21, 24, 34, 38, 47, 51]\n"
     ]
    }
   ],
   "source": [
    "a = [5, 24, 38, 9, 47, 1, 21, 51, 34, 6]\n",
    "sorted_list = InsertSort(a)\n",
    "print(\"Sorted list:\", sorted_list)"
   ]
  },
  {
   "cell_type": "markdown",
   "metadata": {},
   "source": [
    "# 希尔排序(Shell Sort)\n",
    "* 选择一个增量序列$t_1，t_2，…，t_k$，其中$t_i>t_j，t_k=1$；\n",
    "* 按增量序列个数k，对序列进行k 趟排序；\n",
    "* 每趟排序，根据对应的增量ti，将待排序列分割成若干长度为m 的子序列，分别对各子表进行直接插入排序。仅增量因子为1 时，整个序列作为一个表来处理，表长度即为整个序列的长度。\n",
    "\n",
    "时间复杂度O(nlogn)，空间复杂度O(1)。\n",
    "* 将序列按间隔（一般是序列长度的一半，即每两个元素为一组）分成组，在每个组里进行简单插入排序，然后间隔减半在新组里继续简单插入排序。"
   ]
  },
  {
   "cell_type": "code",
   "execution_count": 17,
   "metadata": {},
   "outputs": [],
   "source": [
    "def ShellSort(lst):\n",
    "    def gapsort(lst, start, gap):\n",
    "        for i in range(start, len(lst), gap):\n",
    "            j = i\n",
    "            temp = lst[i]\n",
    "            while j > start and temp < lst[j - gap]:\n",
    "                lst[j] = lst[j - gap]\n",
    "                j -= gap\n",
    "            lst[j] = temp\n",
    "    d = len(lst) // 2\n",
    "    while d > 0:\n",
    "        for i in range(d):\n",
    "            gapsort(lst, i, d)\n",
    "        d = d // 2\n",
    "    return lst"
   ]
  },
  {
   "cell_type": "code",
   "execution_count": 18,
   "metadata": {},
   "outputs": [
    {
     "name": "stdout",
     "output_type": "stream",
     "text": [
      "Sorted list: [1, 5, 6, 9, 21, 24, 34, 38, 47, 51]\n"
     ]
    }
   ],
   "source": [
    "a = [5, 24, 38, 9, 47, 1, 21, 51, 34, 6]\n",
    "sorted_list = ShellSort(a)\n",
    "print(\"Sorted list:\", sorted_list)"
   ]
  },
  {
   "cell_type": "markdown",
   "metadata": {},
   "source": [
    "# 简单选择排序(Select Sort)\n",
    "* 第$i$趟排序$(i=1,2,3…n-1)$开始时，当前有序区和无序区分别为$R[1..i-1]$和$R(i..n)$\n",
    "* 该趟排序从当前无序区中选出关键字最小的记录 $R[k]$，将它与无序区的第1个记录$R$交换，使$R[1..i]$和$R[i+1..n]$分别变为记录个数增加1个的新有序区和记录个数减少1个的新无序区；\n",
    "* $n-1$趟结束，数组有序化了。\n",
    "\n",
    "时间复杂度O(n^2)，空间复杂度O(1)。\n",
    "\n",
    "* 每次选择数组中最小的数放在无序区最前面，前面的为有序区"
   ]
  },
  {
   "cell_type": "code",
   "execution_count": 19,
   "metadata": {},
   "outputs": [],
   "source": [
    "def SelectSort(lst):\n",
    "    if len(lst) <= 1:\n",
    "        return lst\n",
    "    for i in range(len(lst)):\n",
    "        min_idx = i\n",
    "        for j in range(i, len(lst)):\n",
    "            if lst[j] < lst[min_idx]:\n",
    "                min_idx = j\n",
    "        lst[i],lst[min_idx] = lst[min_idx],lst[i]\n",
    "    return lst"
   ]
  },
  {
   "cell_type": "code",
   "execution_count": 20,
   "metadata": {},
   "outputs": [
    {
     "name": "stdout",
     "output_type": "stream",
     "text": [
      "Sorted list: [1, 5, 6, 9, 21, 24, 34, 38, 47, 51]\n"
     ]
    }
   ],
   "source": [
    "a = [5, 24, 38, 9, 47, 1, 21, 51, 34, 6]\n",
    "sorted_list = SelectSort(a)\n",
    "print(\"Sorted list:\", sorted_list)"
   ]
  },
  {
   "cell_type": "markdown",
   "metadata": {},
   "source": [
    "# 堆排序（Heapsort）\n",
    "* 将初始待排序关键字序列$(R1,R2….Rn)$构建成大顶堆，此堆为初始的无序区；\n",
    "* 将堆顶元素$R[1]$与最后一个元素$R[n]$交换，此时得到新的无序区$(R1,R2,……Rn-1)$和新的有序区$(Rn)$,且满足$R[1,2…n-1]<=R[n]$；\n",
    "* 由于交换后新的堆顶$R[1]$可能违反堆的性质，因此需要对当前无序区$(R1,R2,……Rn-1)$调整为新堆，然后再次将$R[1]$与无序区最后一个元素交换，得到新的无序区$(R1,R2….Rn-2)$和新的有序区$(Rn-1,Rn)$。不断重复此过程直到有序区的元素个数为$n-1$，则整个排序过程完成。\n",
    "\n",
    "时间复杂度O(nlogn)，空间复杂度O(1)，解决topk问题。\n",
    "\n",
    "* 将序列建成大顶堆或者小顶堆，把根节点和最后一个叶子节点交换，记录最后一个节点，将交换后的堆（长度减1）重新排列以此类推。"
   ]
  },
  {
   "cell_type": "code",
   "execution_count": 23,
   "metadata": {},
   "outputs": [],
   "source": [
    "#从大到小排序 \n",
    "#下面代码中的空间复杂度为O（n），不依次弹出最后一个元素，\n",
    "#改为将原本的序列从[1,len(n)-1]排序即可完成空间复杂度为O（1）的算法\n",
    "def HeapSort(lst:list):\n",
    "    def Maxidx(N, lst):\n",
    "        if 2 * N + 1 > len(lst)-1:\n",
    "           return 2 * N\n",
    "        else:\n",
    "            if lst[2 * N + 1] < lst[2 * N]:\n",
    "                return 2 * N\n",
    "            else:\n",
    "                return 2 * N + 1\n",
    "    def down(lst, N):\n",
    "        while 2 * N <= len(lst)-1:\n",
    "            maxidx = Maxidx(N, lst)\n",
    "            if lst[N] < lst[maxidx]:\n",
    "                lst[N], lst[maxidx] = lst[maxidx], lst[N]\n",
    "            N = maxidx\n",
    "\n",
    "    if len(lst) <= 1:\n",
    "        return lst\n",
    "    temp = [0] + lst[:]\n",
    "    i = len(temp) // 2\n",
    "    res = []\n",
    "    while i > 0:\n",
    "        down(temp, i)\n",
    "        i -= 1\n",
    "    \n",
    "    for _ in range(1,len(temp)):\n",
    "        temp[1], temp[-1] = temp[-1], temp[1]\n",
    "        res.append(temp.pop())\n",
    "        down(temp, 1)\n",
    "    return res"
   ]
  },
  {
   "cell_type": "code",
   "execution_count": 24,
   "metadata": {},
   "outputs": [
    {
     "name": "stdout",
     "output_type": "stream",
     "text": [
      "Sorted list: [51, 47, 38, 34, 24, 21, 9, 6, 5, 1]\n"
     ]
    }
   ],
   "source": [
    "a = [5, 24, 38, 9, 47, 1, 21, 51, 34, 6]\n",
    "sorted_list = HeapSort(a)\n",
    "print(\"Sorted list:\", sorted_list)"
   ]
  },
  {
   "cell_type": "markdown",
   "metadata": {},
   "source": [
    "# 二路归并排序(Two-way Merge Sort)\n",
    "* 把长度为n的输入序列分成两个长度为n/2的子序列；\n",
    "* 对这两个子序列分别采用归并排序；\n",
    "* 将两个排序好的子序列合并成一个最终的排序序列。\n",
    "\n",
    "$O(nlogn)$的时间复杂度\n",
    "\n",
    "* 将序列一直分割直到一组里面只有两个数字，然后对这两数字排序，递归把分割完的序列排序合并到一起\n"
   ]
  },
  {
   "cell_type": "code",
   "execution_count": 25,
   "metadata": {},
   "outputs": [],
   "source": [
    "def MergeSort(lst):\n",
    "    if len(lst) > 1:\n",
    "        mid = len(lst) // 2\n",
    "        left = lst[:mid]\n",
    "        right = lst[mid:]\n",
    "        MergeSort(left)\n",
    "        MergeSort(right)\n",
    "        i ,j, k = 0, 0, 0\n",
    "        while i < len(left) and j < len(right):\n",
    "            if left[i] < right[j]:\n",
    "                lst[k] = left[i]\n",
    "                i += 1\n",
    "            else:\n",
    "                lst[k] = right[j]\n",
    "                j += 1\n",
    "            k += 1\n",
    "        while i < len(left):\n",
    "            lst[k] = left[i]\n",
    "            i += 1\n",
    "            k += 1\n",
    "        while j < len(right):\n",
    "            lst[k] = right[j]\n",
    "            j += 1    \n",
    "            k += 1\n",
    "    return lst"
   ]
  },
  {
   "cell_type": "code",
   "execution_count": 26,
   "metadata": {},
   "outputs": [
    {
     "name": "stdout",
     "output_type": "stream",
     "text": [
      "Sorted list: [1, 5, 6, 9, 21, 24, 34, 38, 47, 51]\n"
     ]
    }
   ],
   "source": [
    "a = [5, 24, 38, 9, 47, 1, 21, 51, 34, 6]\n",
    "sorted_list = MergeSort(a)\n",
    "print(\"Sorted list:\", sorted_list)"
   ]
  }
 ],
 "metadata": {
  "kernelspec": {
   "display_name": "soh",
   "language": "python",
   "name": "python3"
  },
  "language_info": {
   "codemirror_mode": {
    "name": "ipython",
    "version": 3
   },
   "file_extension": ".py",
   "mimetype": "text/x-python",
   "name": "python",
   "nbconvert_exporter": "python",
   "pygments_lexer": "ipython3",
   "version": "3.10.16"
  }
 },
 "nbformat": 4,
 "nbformat_minor": 2
}
