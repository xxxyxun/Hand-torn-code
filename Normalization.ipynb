{
 "cells": [
  {
   "cell_type": "markdown",
   "metadata": {},
   "source": [
    "# Layer Normalization\n",
    "层归一化对每个样本的所有特征进行归一化操作，即沿着每个样本的特征维度（例如，在图像中是通道维度、在文本中是单词或句子的维度）操作。\n",
    "## 计算方法\n",
    "$$\n",
    "\\mu =\\frac{1}{d}\\sum _{i=1}^{d}x_{i}\n",
    "$$\n",
    "\n",
    "$$\n",
    "\\sigma ^{2}=\\frac{1}{d}\\sum _{i=1}^{d}(x_{i}-\\mu )^{2}\n",
    "$$\n",
    "其中， $d $是样本的特征数量，$x_i $是样本的第$ i$ 个特征。\n",
    "归一化：\n",
    "$$\n",
    "\\widehat{x}_{i}=\\frac{x_{i}-\\mu }{\\sqrt{\\sigma ^{2}+\\epsilon }}\n",
    "$$\n",
    "LayerNorm 还引入了两个可学习的参数 gamma（缩放）和 beta（偏移），可以对归一化后的结果进行线性变换\n",
    "$$\n",
    "y_{i}=\\gamma \\widehat{x_{i}}+\\beta\n",
    "$$\n",
    "\n",
    "## 计算方法\n",
    "输入格式一般为：(batch_size, num_features)\n",
    "\n",
    "\n",
    "图像数据是 (batch_size, channels, height, width)\n",
    "\n",
    "对于文本数据是 (batch_size, seq_length, emd_size)\n"
   ]
  },
  {
   "cell_type": "code",
   "execution_count": 1,
   "metadata": {},
   "outputs": [],
   "source": [
    "import torch\n",
    "from torch import nn\n",
    "\n",
    "class LayerNorm(nn.Module):\n",
    "    def __init__(self, normalized_shape, is_learn = False, eps=1e-5):\n",
    "        super(LayerNorm, self).__init__()\n",
    "        self.noralized_shape = normalized_shape\n",
    "        self.is_learn = is_learn\n",
    "        self.eps = eps\n",
    "        \n",
    "        if self.is_learn:\n",
    "            self.gamma = nn.Parameter(torch.ones(normalized_shape))\n",
    "            self.beta = nn.Parameter(torch.zeros(normalized_shape))\n",
    "        else:\n",
    "            self.gamma = None\n",
    "            self.beta = None\n",
    "\n",
    "\n",
    "    def forward(self, x):\n",
    "\n",
    "        mean = torch.mean(x,dim=(1,2,3), keepdim=True)\n",
    "        var = torch.var(x,dim=(1,2,3), unbiased=False, keepdim=True)\n",
    "\n",
    "        layer_norm = (x - mean) / torch.sqrt(var + self.eps)\n",
    "        \n",
    "        if self.is_learn:\n",
    "            layer_norm = layer_norm * self.gamma + self.beta\n",
    "        return layer_norm"
   ]
  },
  {
   "cell_type": "code",
   "execution_count": 2,
   "metadata": {},
   "outputs": [
    {
     "name": "stdout",
     "output_type": "stream",
     "text": [
      "Output of custom LayerNorm: True\n"
     ]
    }
   ],
   "source": [
    "#测试\n",
    "x = torch.randn(16, 3, 32, 32) # 假设输入是一个16张3通道32x32的图像\n",
    "layernorm = LayerNorm(normalized_shape=(3, 32, 32))\n",
    "layernorm_nn = nn.LayerNorm(normalized_shape=[3, 32, 32], elementwise_affine=True)\n",
    "output = layernorm(x)\n",
    "output_nn = layernorm_nn(x)\n",
    "are_equal = torch.allclose(output, output_nn, atol=1e-5)\n",
    "print(\"Output of custom LayerNorm:\", are_equal)"
   ]
  },
  {
   "cell_type": "markdown",
   "metadata": {},
   "source": [
    "# Batch Normalization\n",
    "BatchNorm是对一个batch-size样本内的每个特征做归一化，维度上分析，就是在NHW维度上分别进行归一化，保留特征图的通道尺寸大小进行的归一化。\n",
    "\n",
    "BN抹杀了不同特征之间的大小关系，但是保留了不同样本间的大小关系；LN抹杀了不同样本间的大小关系，但是保留了一个样本内不同特征之间的大小关系。"
   ]
  },
  {
   "cell_type": "code",
   "execution_count": 21,
   "metadata": {},
   "outputs": [],
   "source": [
    "import torch\n",
    "from torch import nn\n",
    "\n",
    "class BatchNorm(nn.Module):\n",
    "    def __init__(self, num_features, gamma, beta, eps=1e-5):# 与nn.BatchNorm2d保持一致 num_features是通道数\n",
    "        super(BatchNorm, self).__init__()\n",
    "        self.noralized_shape = num_features\n",
    "        self.eps = eps\n",
    "        \n",
    "        self.gamma = gamma\n",
    "        self.beta = beta\n",
    "\n",
    "\n",
    "    def forward(self, x):\n",
    "\n",
    "        mean = torch.mean(x, dim=(0,2,3), keepdim=True)\n",
    "        var = torch.var(x, dim=(0,2,3), unbiased=False, keepdim=True)\n",
    "        # 用torch.mean和torch.var计算均值和方差时精度可能会有问题\n",
    "\n",
    "        layer_norm = (x - mean) / torch.sqrt(var + self.eps)\n",
    "        \n",
    "        layer_norm = layer_norm * self.gamma.view(1, -1, 1, 1) + self.beta.view(1, -1, 1, 1)\n",
    "        return layer_norm"
   ]
  },
  {
   "cell_type": "code",
   "execution_count": 22,
   "metadata": {},
   "outputs": [
    {
     "name": "stdout",
     "output_type": "stream",
     "text": [
      "Output of custom BatchNorm: True\n"
     ]
    }
   ],
   "source": [
    "#测试\n",
    "x = torch.randn(16, 3, 32, 32) # 假设输入是一个16张3通道32x32的图像\n",
    "gamma = nn.Parameter(torch.randn(x.size(1)))\n",
    "beta =  nn.Parameter(torch.randn(x.size(1)))\n",
    "batchnorm = BatchNorm(3, gamma=gamma, beta=beta)\n",
    "batchnorm_nn = nn.BatchNorm2d(num_features=3)\n",
    "output = layernorm(x)\n",
    "output_nn = layernorm_nn(x)\n",
    "are_equal = torch.allclose(output, output_nn, atol=1e-5)\n",
    "print(\"Output of custom BatchNorm:\", are_equal)"
   ]
  },
  {
   "cell_type": "markdown",
   "metadata": {},
   "source": [
    "# RMSnorm\n",
    "\n",
    "去除了减去均值的操作，也就是没有去中心化的操作，只有缩放的操作。RMSnorm就是均值为0的layer norm。\n",
    "\n",
    "优点：没有了去中心化的操作，可以提升运行效率。（多用于大语言模型）"
   ]
  },
  {
   "cell_type": "code",
   "execution_count": 7,
   "metadata": {},
   "outputs": [],
   "source": [
    "class RMSNorm(torch.nn.Module):\n",
    "    def __init__(self, normalized_shape, eps=1e-6):\n",
    "        super(RMSNorm, self).__init__()\n",
    "        self.normalized_shape = normalized_shape\n",
    "        self.eps = eps\n",
    "        self.gamma = nn.Parameter(torch.ones(normalized_shape))\n",
    "        self.beta = nn.Parameter(torch.zeros(normalized_shape))\n",
    "\n",
    "    def forward(self, x):\n",
    "        # 计算均方根\n",
    "        norm = torch.sqrt(torch.mean(x ** 2, dim=(1,2,3), keepdim=True) + self.eps)\n",
    "        # 归一化\n",
    "        x_normalized = x / norm\n",
    "        # 应用权重\n",
    "        RMS_Norm = x_normalized * self.gamma + self.beta\n",
    "        return RMS_Norm"
   ]
  },
  {
   "cell_type": "code",
   "execution_count": 26,
   "metadata": {},
   "outputs": [
    {
     "name": "stdout",
     "output_type": "stream",
     "text": [
      "Output of custom RMSNorm: True\n"
     ]
    }
   ],
   "source": [
    "x = torch.randn(16, 3, 32, 32)\n",
    "rmsnorm = RMSNorm(normalized_shape=(3, 32, 32))\n",
    "output = rmsnorm(x)\n",
    "output_nn = nn.RMSNorm(normalized_shape=[3, 32, 32])(x)\n",
    "are_equal = torch.allclose(output, output_nn, atol=1e-5)\n",
    "print(\"Output of custom RMSNorm:\", are_equal)\n"
   ]
  },
  {
   "cell_type": "markdown",
   "metadata": {},
   "source": [
    "# InstanceNorm\n",
    "$(B, C, H, W) -> (B, C, 1, 1)$\n",
    "\n",
    "相当于对每个batch每个通道做了归一化。可以保留原始图像的信号而不混杂，因此常用于风格迁移等工作。"
   ]
  },
  {
   "cell_type": "code",
   "execution_count": 31,
   "metadata": {},
   "outputs": [],
   "source": [
    "class InstanceNorm(nn.Module):\n",
    "    def __init__(self, num_features, gamma, beta, eps=1e-5):\n",
    "        super(InstanceNorm, self).__init__()\n",
    "        self.noralized_shape = num_features\n",
    "        self.eps = eps\n",
    "        \n",
    "        self.gamma = gamma\n",
    "        self.beta = beta\n",
    "        \n",
    "    def forward(self, x):\n",
    "\n",
    "        mean = torch.mean(x, dim=(2,3), keepdim=True)\n",
    "        var = torch.var(x, dim=(2,3), unbiased=False, keepdim=True)\n",
    "\n",
    "        layer_norm = (x - mean) / torch.sqrt(var + self.eps)\n",
    "        layer_norm = layer_norm * self.gamma.view(1, -1, 1, 1) + self.beta.view(1, -1, 1, 1)\n",
    "        return layer_norm"
   ]
  },
  {
   "cell_type": "code",
   "execution_count": 34,
   "metadata": {},
   "outputs": [
    {
     "name": "stdout",
     "output_type": "stream",
     "text": [
      "Output of custom LayerNorm: True\n"
     ]
    }
   ],
   "source": [
    "#测试\n",
    "x = torch.randn(16, 3, 32, 32) # 假设输入是一个16张3通道32x32的图像\n",
    "gamma = nn.Parameter(torch.randn(x.size(1))) \n",
    "beta =  nn.Parameter(torch.randn(x.size(1)))\n",
    "Instancenorm = InstanceNorm(num_features=3, gamma=gamma, beta=beta)\n",
    "Instancenorm_nn = nn.InstanceNorm2d(num_features=3)\n",
    "Instancenorm_nn.weight = gamma\n",
    "Instancenorm_nn.bias = beta\n",
    "output = Instancenorm(x)\n",
    "output_nn = Instancenorm_nn(x)\n",
    "are_equal = torch.allclose(output, output_nn, atol=1e-5)\n",
    "print(\"Output of custom LayerNorm:\", are_equal)"
   ]
  }
 ],
 "metadata": {
  "kernelspec": {
   "display_name": "soh",
   "language": "python",
   "name": "python3"
  },
  "language_info": {
   "codemirror_mode": {
    "name": "ipython",
    "version": 3
   },
   "file_extension": ".py",
   "mimetype": "text/x-python",
   "name": "python",
   "nbconvert_exporter": "python",
   "pygments_lexer": "ipython3",
   "version": "3.10.16"
  }
 },
 "nbformat": 4,
 "nbformat_minor": 2
}
